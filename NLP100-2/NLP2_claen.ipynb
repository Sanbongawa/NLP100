{
 "cells": [
  {
   "cell_type": "markdown",
   "metadata": {},
   "source": [
    "### NLP100\n",
    "#### 2クール目\n",
    "### 実施日:H27.7/18~20,清書日:H27.11/15\n",
    "#### 参考:http://www.cl.ecei.tohoku.ac.jp/nlp100/\n"
   ]
  },
  {
   "cell_type": "markdown",
   "metadata": {},
   "source": [
    "## 第2章: UNIXコマンドの基礎\n",
    "hightemp.txtは，日本の最高気温の記録を「都道府県」「地点」「℃」「日」のタブ区切り形式で格納したファイルである．以下の処理を行うプログラムを作成し，hightemp.txtを入力ファイルとして実行せよ．さらに，同様の処理をUNIXコマンドでも実行し，プログラムの実行結果を確認せよ．\n",
    "#### 10. 行数のカウント\n",
    "行数をカウントせよ．確認にはwcコマンドを用いよ．\n",
    "#### 11. タブをスペースに置換\n",
    "タブ1文字につきスペース1文字に置換せよ．確認にはsedコマンド，trコマンド，もしくはexpandコマンドを用いよ．\n",
    "#### 12. 1列目をcol1.txtに，2列目をcol2.txtに保存\n",
    "各行の1列目だけを抜き出したものをcol1.txtに，2列目だけを抜き出したものをcol2.txtとしてファイルに保存せよ．確認にはcutコマンドを用いよ．\n",
    "#### 13. col1.txtとcol2.txtをマージ\n",
    "12で作ったcol1.txtとcol2.txtを結合し，元のファイルの1列目と2列目をタブ区切りで並べたテキストファイルを作成せよ．確認にはpasteコマンドを用いよ．\n",
    "#### 14. 先頭からN行を出力\n",
    "自然数Nをコマンドライン引数などの手段で受け取り，入力のうち先頭のN行だけを表示せよ．確認にはheadコマンドを用いよ．\n",
    "#### 15. 末尾のN行を出力\n",
    "自然数Nをコマンドライン引数などの手段で受け取り，入力のうち末尾のN行だけを表示せよ．確認にはtailコマンドを用いよ．\n",
    "#### 16. ファイルをN分割する\n",
    "自然数Nをコマンドライン引数などの手段で受け取り，入力のファイルを行単位でN分割せよ．同様の処理をsplitコマンドで実現せよ．\n",
    "#### 17. １列目の文字列の異なり\n",
    "1列目の文字列の種類（異なる文字列の集合）を求めよ．確認にはsort, uniqコマンドを用いよ．\n",
    "#### 18. 各行を3コラム目の数値の降順にソート\n",
    "各行を3コラム目の数値の逆順で整列せよ（注意: 各行の内容は変更せずに並び替えよ）．確認にはsortコマンドを用いよ（この問題はコマンドで実行した時の結果と合わなくてもよい）．\n",
    "#### 19. 各行の1コラム目の文字列の出現頻度を求め，出現頻度の高い順に並べる\n",
    "各行の1列目の文字列の出現頻度を求め，その高い順に並べて表示せよ．確認にはcut, uniq, sortコマンドを用いよ．"
   ]
  },
  {
   "cell_type": "markdown",
   "metadata": {},
   "source": [
    "### 使用したデータhttp://www.cl.ecei.tohoku.ac.jp/nlp100/data/hightemp.txt"
   ]
  },
  {
   "cell_type": "code",
   "execution_count": 1,
   "metadata": {
    "collapsed": true
   },
   "outputs": [],
   "source": [
    "__name__=\"@Sanbongawa\""
   ]
  },
  {
   "cell_type": "markdown",
   "metadata": {},
   "source": [
    "### ファイルの読み込み"
   ]
  },
  {
   "cell_type": "code",
   "execution_count": 1,
   "metadata": {
    "collapsed": false
   },
   "outputs": [
    {
     "data": {
      "text/plain": [
       "'高知県\\t江川崎\\t41\\t2013-08-12\\n埼玉県\\t熊谷\\t40.9\\t2007-08-16\\n岐阜県\\t多治見\\t40.9\\t2007-08-16\\n山形県\\t山形\\t40.8\\t1933-07-25\\n山梨県\\t甲府\\t40.7\\t2013-08-10\\n和歌山県\\tかつらぎ\\t40.6\\t1994-08-08\\n静岡県\\t天竜\\t40.6\\t1994-08-04\\n山梨県\\t勝沼\\t40.5\\t2013-08-10\\n埼玉県\\t越谷\\t40.4\\t2007-08-16\\n群馬県\\t館林\\t40.3\\t2007-08-16\\n群馬県\\t上里見\\t40.3\\t1998-07-04\\n愛知県\\t愛西\\t40.3\\t1994-08-05\\n千葉県\\t牛久\\t40.2\\t2004-07-20\\n静岡県\\t佐久間\\t40.2\\t2001-07-24\\n愛媛県\\t宇和島\\t40.2\\t1927-07-22\\n山形県\\t酒田\\t40.1\\t1978-08-03\\n岐阜県\\t美濃\\t40\\t2007-08-16\\n群馬県\\t前橋\\t40\\t2001-07-24\\n千葉県\\t茂原\\t39.9\\t2013-08-11\\n埼玉県\\t鳩山\\t39.9\\t1997-07-05\\n大阪府\\t豊中\\t39.9\\t1994-08-08\\n山梨県\\t大月\\t39.9\\t1990-07-19\\n山形県\\t鶴岡\\t39.9\\t1978-08-03\\n愛知県\\t名古屋\\t39.9\\t1942-08-02\\n'"
      ]
     },
     "execution_count": 1,
     "metadata": {},
     "output_type": "execute_result"
    }
   ],
   "source": [
    "f = open(\"hightemp.txt\")\n",
    "data = f.read()\n",
    "f.close()\n",
    "data"
   ]
  },
  {
   "cell_type": "markdown",
   "metadata": {},
   "source": [
    "## 10. 行数のカウント\n",
    "行数をカウントせよ．確認にはwcコマンドを用いよ．"
   ]
  },
  {
   "cell_type": "code",
   "execution_count": 4,
   "metadata": {
    "collapsed": false
   },
   "outputs": [
    {
     "name": "stdout",
     "output_type": "stream",
     "text": [
      "      24      98     813 ./hightemp.txt\r\n"
     ]
    }
   ],
   "source": [
    "!wc ./hightemp.txt"
   ]
  },
  {
   "cell_type": "code",
   "execution_count": 6,
   "metadata": {
    "collapsed": false
   },
   "outputs": [
    {
     "data": {
      "text/plain": [
       "24"
      ]
     },
     "execution_count": 6,
     "metadata": {},
     "output_type": "execute_result"
    }
   ],
   "source": [
    "li = open(\"hightemp.txt\").readlines()\n",
    "len(li)"
   ]
  },
  {
   "cell_type": "markdown",
   "metadata": {},
   "source": [
    "## 11. タブをスペースに置換\n",
    "タブ1文字につきスペース1文字に置換せよ．確認にはsedコマンド，trコマンド，もしくはexpandコマンドを用いよ．"
   ]
  },
  {
   "cell_type": "code",
   "execution_count": 7,
   "metadata": {
    "collapsed": false
   },
   "outputs": [
    {
     "name": "stdout",
     "output_type": "stream",
     "text": [
      "高知県  江川崎  41      2013-08-12\r\n",
      "埼玉県  熊谷    40.9    2007-08-16\r\n",
      "岐阜県  多治見  40.9    2007-08-16\r\n",
      "山形県  山形    40.8    1933-07-25\r\n",
      "山梨県  甲府    40.7    2013-08-10\r\n",
      "和歌山県        かつらぎ        40.6    1994-08-08\r\n",
      "静岡県  天竜    40.6    1994-08-04\r\n",
      "山梨県  勝沼    40.5    2013-08-10\r\n",
      "埼玉県  越谷    40.4    2007-08-16\r\n",
      "群馬県  館林    40.3    2007-08-16\r\n",
      "群馬県  上里見  40.3    1998-07-04\r\n",
      "愛知県  愛西    40.3    1994-08-05\r\n",
      "千葉県  牛久    40.2    2004-07-20\r\n",
      "静岡県  佐久間  40.2    2001-07-24\r\n",
      "愛媛県  宇和島  40.2    1927-07-22\r\n",
      "山形県  酒田    40.1    1978-08-03\r\n",
      "岐阜県  美濃    40      2007-08-16\r\n",
      "群馬県  前橋    40      2001-07-24\r\n",
      "千葉県  茂原    39.9    2013-08-11\r\n",
      "埼玉県  鳩山    39.9    1997-07-05\r\n",
      "大阪府  豊中    39.9    1994-08-08\r\n",
      "山梨県  大月    39.9    1990-07-19\r\n",
      "山形県  鶴岡    39.9    1978-08-03\r\n",
      "愛知県  名古屋  39.9    1942-08-02\r\n"
     ]
    }
   ],
   "source": [
    "!expand ./hightemp.txt"
   ]
  },
  {
   "cell_type": "code",
   "execution_count": 81,
   "metadata": {
    "collapsed": false,
    "scrolled": true
   },
   "outputs": [
    {
     "name": "stdout",
     "output_type": "stream",
     "text": [
      "高知県  江川崎  41  2013-08-12\n",
      "埼玉県  熊谷  40.9  2007-08-16\n",
      "岐阜県  多治見  40.9  2007-08-16\n",
      "山形県  山形  40.8  1933-07-25\n",
      "山梨県  甲府  40.7  2013-08-10\n",
      "和歌山県  かつらぎ  40.6  1994-08-08\n",
      "静岡県  天竜  40.6  1994-08-04\n",
      "山梨県  勝沼  40.5  2013-08-10\n",
      "埼玉県  越谷  40.4  2007-08-16\n",
      "群馬県  館林  40.3  2007-08-16\n",
      "群馬県  上里見  40.3  1998-07-04\n",
      "愛知県  愛西  40.3  1994-08-05\n",
      "千葉県  牛久  40.2  2004-07-20\n",
      "静岡県  佐久間  40.2  2001-07-24\n",
      "愛媛県  宇和島  40.2  1927-07-22\n",
      "山形県  酒田  40.1  1978-08-03\n",
      "岐阜県  美濃  40  2007-08-16\n",
      "群馬県  前橋  40  2001-07-24\n",
      "千葉県  茂原  39.9  2013-08-11\n",
      "埼玉県  鳩山  39.9  1997-07-05\n",
      "大阪府  豊中  39.9  1994-08-08\n",
      "山梨県  大月  39.9  1990-07-19\n",
      "山形県  鶴岡  39.9  1978-08-03\n",
      "愛知県  名古屋  39.9  1942-08-02\n",
      "\n"
     ]
    }
   ],
   "source": [
    "f = open(\"hightemp.txt\")\n",
    "data = f.read()\n",
    "f.close()\n",
    "print(data.replace(\"\\t\",\"  \"))"
   ]
  },
  {
   "cell_type": "markdown",
   "metadata": {},
   "source": [
    "## 12. 1列目をcol1.txtに，2列目をcol2.txtに保存\n",
    "各行の1列目だけを抜き出したものをcol1.txtに，2列目だけを抜き出したものをcol2.txtとしてファイルに保存せよ．確認にはcutコマンドを用いよ"
   ]
  },
  {
   "cell_type": "code",
   "execution_count": 52,
   "metadata": {
    "collapsed": false
   },
   "outputs": [
    {
     "name": "stdout",
     "output_type": "stream",
     "text": [
      "高知県\r\n",
      "埼玉県\r\n",
      "岐阜県\r\n",
      "山形県\r\n",
      "山梨県\r\n",
      "和歌山県\r\n",
      "静岡県\r\n",
      "山梨県\r\n",
      "埼玉県\r\n",
      "群馬県\r\n",
      "群馬県\r\n",
      "愛知県\r\n",
      "千葉県\r\n",
      "静岡県\r\n",
      "愛媛県\r\n",
      "山形県\r\n",
      "岐阜県\r\n",
      "群馬県\r\n",
      "千葉県\r\n",
      "埼玉県\r\n",
      "大阪府\r\n",
      "山梨県\r\n",
      "山形県\r\n",
      "愛知県\r\n"
     ]
    }
   ],
   "source": [
    "!cut -f  1 ./hightemp.txt\n",
    "\n"
   ]
  },
  {
   "cell_type": "code",
   "execution_count": 53,
   "metadata": {
    "collapsed": false,
    "scrolled": false
   },
   "outputs": [
    {
     "name": "stdout",
     "output_type": "stream",
     "text": [
      "江川崎\r\n",
      "熊谷\r\n",
      "多治見\r\n",
      "山形\r\n",
      "甲府\r\n",
      "かつらぎ\r\n",
      "天竜\r\n",
      "勝沼\r\n",
      "越谷\r\n",
      "館林\r\n",
      "上里見\r\n",
      "愛西\r\n",
      "牛久\r\n",
      "佐久間\r\n",
      "宇和島\r\n",
      "酒田\r\n",
      "美濃\r\n",
      "前橋\r\n",
      "茂原\r\n",
      "鳩山\r\n",
      "豊中\r\n",
      "大月\r\n",
      "鶴岡\r\n",
      "名古屋\r\n"
     ]
    }
   ],
   "source": [
    "!cut -f  2 ./hightemp.txt"
   ]
  },
  {
   "cell_type": "code",
   "execution_count": 82,
   "metadata": {
    "collapsed": false,
    "scrolled": true
   },
   "outputs": [
    {
     "name": "stdout",
     "output_type": "stream",
     "text": [
      "['高知県', '江川崎', '41', '2013-08-12', '埼玉県', '熊谷', '40.9', '2007-08-16', '岐阜県', '多治見', '40.9', '2007-08-16', '山形県', '山形', '40.8', '1933-07-25', '山梨県', '甲府', '40.7', '2013-08-10', '和歌山県', 'かつらぎ', '40.6', '1994-08-08', '静岡県', '天竜', '40.6', '1994-08-04', '山梨県', '勝沼', '40.5', '2013-08-10', '埼玉県', '越谷', '40.4', '2007-08-16', '群馬県', '館林', '40.3', '2007-08-16', '群馬県', '上里見', '40.3', '1998-07-04', '愛知県', '愛西', '40.3', '1994-08-05', '千葉県', '牛久', '40.2', '2004-07-20', '静岡県', '佐久間', '40.2', '2001-07-24', '愛媛県', '宇和島', '40.2', '1927-07-22', '山形県', '酒田', '40.1', '1978-08-03', '岐阜県', '美濃', '40', '2007-08-16', '群馬県', '前橋', '40', '2001-07-24', '千葉県', '茂原', '39.9', '2013-08-11', '埼玉県', '鳩山', '39.9', '1997-07-05', '大阪府', '豊中', '39.9', '1994-08-08', '山梨県', '大月', '39.9', '1990-07-19', '山形県', '鶴岡', '39.9', '1978-08-03', '愛知県', '名古屋', '39.9', '1942-08-02', '']\n",
      "['高知県', '埼玉県', '岐阜県', '山形県', '山梨県', '和歌山県', '静岡県', '山梨県', '埼玉県', '群馬県', '群馬県', '愛知県', '千葉県', '静岡県', '愛媛県', '山形県', '岐阜県', '群馬県', '千葉県', '埼玉県', '大阪府', '山梨県', '山形県', '愛知県', '']\n"
     ]
    }
   ],
   "source": [
    "f = open(\"hightemp.txt\")\n",
    "data = f.read()\n",
    "f.close()\n",
    "import re\n",
    "d = re.split(r'\\n|\\t',data)\n",
    "e = d[0::4]\n",
    "print(c)\n",
    "print(e)"
   ]
  },
  {
   "cell_type": "code",
   "execution_count": 83,
   "metadata": {
    "collapsed": false,
    "scrolled": true
   },
   "outputs": [
    {
     "name": "stdout",
     "output_type": "stream",
     "text": [
      "高知県\n",
      "埼玉県\n",
      "岐阜県\n",
      "山形県\n",
      "山梨県\n",
      "和歌山県\n",
      "静岡県\n",
      "山梨県\n",
      "埼玉県\n",
      "群馬県\n",
      "群馬県\n",
      "愛知県\n",
      "千葉県\n",
      "静岡県\n",
      "愛媛県\n",
      "山形県\n",
      "岐阜県\n",
      "群馬県\n",
      "千葉県\n",
      "埼玉県\n",
      "大阪府\n",
      "山梨県\n",
      "山形県\n",
      "愛知県\n",
      "\n"
     ]
    }
   ],
   "source": [
    "f = open(\"col1.txt\",\"w\")\n",
    "f.write(\"\\n\".join(e))\n",
    "f.close()\n",
    "f = open(\"col1.txt\",\"r\")\n",
    "g = f.read()\n",
    "f.close()\n",
    "print(g)"
   ]
  },
  {
   "cell_type": "code",
   "execution_count": 84,
   "metadata": {
    "collapsed": false,
    "scrolled": true
   },
   "outputs": [
    {
     "name": "stdout",
     "output_type": "stream",
     "text": [
      "江川崎\n",
      "熊谷\n",
      "多治見\n",
      "山形\n",
      "甲府\n",
      "かつらぎ\n",
      "天竜\n",
      "勝沼\n",
      "越谷\n",
      "館林\n",
      "上里見\n",
      "愛西\n",
      "牛久\n",
      "佐久間\n",
      "宇和島\n",
      "酒田\n",
      "美濃\n",
      "前橋\n",
      "茂原\n",
      "鳩山\n",
      "豊中\n",
      "大月\n",
      "鶴岡\n",
      "名古屋\n"
     ]
    }
   ],
   "source": [
    "l = d[1:-1:4]\n",
    "f = open(\"col2.txt\",\"w\")\n",
    "f.write(\"\\n\".join(l))\n",
    "f.close()\n",
    "f = open(\"col2.txt\",\"r\")\n",
    "g = f.read()\n",
    "f.close()\n",
    "print(g)"
   ]
  },
  {
   "cell_type": "markdown",
   "metadata": {},
   "source": [
    "## 13. col1.txtとcol2.txtをマージ\n",
    "12で作ったcol1.txtとcol2.txtを結合し，元のファイルの1列目と2列目をタブ区切りで並べたテキストファイルを作成せよ．確認にはpasteコマンドを用いよ．"
   ]
  },
  {
   "cell_type": "code",
   "execution_count": 61,
   "metadata": {
    "collapsed": false
   },
   "outputs": [
    {
     "name": "stdout",
     "output_type": "stream",
     "text": [
      "高知県\t江川崎\r\n",
      "埼玉県\t熊谷\r\n",
      "岐阜県\t多治見\r\n",
      "山形県\t山形\r\n",
      "山梨県\t甲府\r\n",
      "和歌山県\tかつらぎ\r\n",
      "静岡県\t天竜\r\n",
      "山梨県\t勝沼\r\n",
      "埼玉県\t越谷\r\n",
      "群馬県\t館林\r\n",
      "群馬県\t上里見\r\n",
      "愛知県\t愛西\r\n",
      "千葉県\t牛久\r\n",
      "静岡県\t佐久間\r\n",
      "愛媛県\t宇和島\r\n",
      "山形県\t酒田\r\n",
      "岐阜県\t美濃\r\n",
      "群馬県\t前橋\r\n",
      "千葉県\t茂原\r\n",
      "埼玉県\t鳩山\r\n",
      "大阪府\t豊中\r\n",
      "山梨県\t大月\r\n",
      "山形県\t鶴岡\r\n",
      "愛知県\t名古屋\r\n"
     ]
    }
   ],
   "source": [
    "!paste ./col1.txt ./col2.txt"
   ]
  },
  {
   "cell_type": "code",
   "execution_count": 65,
   "metadata": {
    "collapsed": false,
    "scrolled": true
   },
   "outputs": [
    {
     "name": "stdout",
     "output_type": "stream",
     "text": [
      "高知県\n",
      "埼玉県\n",
      "岐阜県\n",
      "山形県\n",
      "山梨県\n",
      "和歌山県\n",
      "静岡県\n",
      "山梨県\n",
      "埼玉県\n",
      "群馬県\n",
      "群馬県\n",
      "愛知県\n",
      "千葉県\n",
      "静岡県\n",
      "愛媛県\n",
      "山形県\n",
      "岐阜県\n",
      "群馬県\n",
      "千葉県\n",
      "埼玉県\n",
      "大阪府\n",
      "山梨県\n",
      "山形県\n",
      "愛知県\n",
      "\n"
     ]
    },
    {
     "data": {
      "text/plain": [
       "['高知県',\n",
       " '埼玉県',\n",
       " '岐阜県',\n",
       " '山形県',\n",
       " '山梨県',\n",
       " '和歌山県',\n",
       " '静岡県',\n",
       " '山梨県',\n",
       " '埼玉県',\n",
       " '群馬県',\n",
       " '群馬県',\n",
       " '愛知県',\n",
       " '千葉県',\n",
       " '静岡県',\n",
       " '愛媛県',\n",
       " '山形県',\n",
       " '岐阜県',\n",
       " '群馬県',\n",
       " '千葉県',\n",
       " '埼玉県',\n",
       " '大阪府',\n",
       " '山梨県',\n",
       " '山形県',\n",
       " '愛知県']"
      ]
     },
     "execution_count": 65,
     "metadata": {},
     "output_type": "execute_result"
    }
   ],
   "source": [
    "f = open (\"col1.txt\",\"r\")\n",
    "a1 = f.read()\n",
    "f.close()\n",
    "print(a1)\n",
    "b1 = a1.splitlines()\n",
    "b1"
   ]
  },
  {
   "cell_type": "code",
   "execution_count": 66,
   "metadata": {
    "collapsed": false,
    "scrolled": true
   },
   "outputs": [
    {
     "name": "stdout",
     "output_type": "stream",
     "text": [
      "江川崎\n",
      "熊谷\n",
      "多治見\n",
      "山形\n",
      "甲府\n",
      "かつらぎ\n",
      "天竜\n",
      "勝沼\n",
      "越谷\n",
      "館林\n",
      "上里見\n",
      "愛西\n",
      "牛久\n",
      "佐久間\n",
      "宇和島\n",
      "酒田\n",
      "美濃\n",
      "前橋\n",
      "茂原\n",
      "鳩山\n",
      "豊中\n",
      "大月\n",
      "鶴岡\n",
      "名古屋\n"
     ]
    },
    {
     "data": {
      "text/plain": [
       "['江川崎',\n",
       " '熊谷',\n",
       " '多治見',\n",
       " '山形',\n",
       " '甲府',\n",
       " 'かつらぎ',\n",
       " '天竜',\n",
       " '勝沼',\n",
       " '越谷',\n",
       " '館林',\n",
       " '上里見',\n",
       " '愛西',\n",
       " '牛久',\n",
       " '佐久間',\n",
       " '宇和島',\n",
       " '酒田',\n",
       " '美濃',\n",
       " '前橋',\n",
       " '茂原',\n",
       " '鳩山',\n",
       " '豊中',\n",
       " '大月',\n",
       " '鶴岡',\n",
       " '名古屋']"
      ]
     },
     "execution_count": 66,
     "metadata": {},
     "output_type": "execute_result"
    }
   ],
   "source": [
    "f = open (\"col2.txt\",\"r\")\n",
    "a2 = f.read()\n",
    "f.close()\n",
    "print(a2)\n",
    "b2 = a2.splitlines()\n",
    "b2"
   ]
  },
  {
   "cell_type": "code",
   "execution_count": 67,
   "metadata": {
    "collapsed": false
   },
   "outputs": [
    {
     "name": "stdout",
     "output_type": "stream",
     "text": [
      "['高知県\\t江川崎', '埼玉県\\t熊谷', '岐阜県\\t多治見', '山形県\\t山形', '山梨県\\t甲府', '和歌山県\\tかつらぎ', '静岡県\\t天竜', '山梨県\\t勝沼', '埼玉県\\t越谷', '群馬県\\t館林', '群馬県\\t上里見', '愛知県\\t愛西', '千葉県\\t牛久', '静岡県\\t佐久間', '愛媛県\\t宇和島', '山形県\\t酒田', '岐阜県\\t美濃', '群馬県\\t前橋', '千葉県\\t茂原', '埼玉県\\t鳩山', '大阪府\\t豊中', '山梨県\\t大月', '山形県\\t鶴岡', '愛知県\\t名古屋']\n"
     ]
    }
   ],
   "source": [
    "a3 = []\n",
    "for i in range(len(b1)):\n",
    "    a3.append(b1[i] + \"\\t\" + b2[i])\n",
    "print(a3)"
   ]
  },
  {
   "cell_type": "code",
   "execution_count": 73,
   "metadata": {
    "collapsed": false
   },
   "outputs": [
    {
     "name": "stdout",
     "output_type": "stream",
     "text": [
      "高知県\t江川崎\n",
      "埼玉県\t熊谷\n",
      "岐阜県\t多治見\n",
      "山形県\t山形\n",
      "山梨県\t甲府\n",
      "和歌山県\tかつらぎ\n",
      "静岡県\t天竜\n",
      "山梨県\t勝沼\n",
      "埼玉県\t越谷\n",
      "群馬県\t館林\n",
      "群馬県\t上里見\n",
      "愛知県\t愛西\n",
      "千葉県\t牛久\n",
      "静岡県\t佐久間\n",
      "愛媛県\t宇和島\n",
      "山形県\t酒田\n",
      "岐阜県\t美濃\n",
      "群馬県\t前橋\n",
      "千葉県\t茂原\n",
      "埼玉県\t鳩山\n",
      "大阪府\t豊中\n",
      "山梨県\t大月\n",
      "山形県\t鶴岡\n",
      "愛知県\t名古屋\n"
     ]
    }
   ],
   "source": [
    "f = open('col3.txt','w')\n",
    "f.write(\"\\n\".join(a3))\n",
    "f.close()\n",
    "f=open('col3.txt')\n",
    "text = f.read()\n",
    "f.close()\n",
    "print(text)"
   ]
  },
  {
   "cell_type": "markdown",
   "metadata": {},
   "source": [
    "## 14. 先頭からN行を出力\n",
    "自然数Nをコマンドライン引数などの手段で受け取り，入力のうち先頭のN行だけを表示せよ．確認にはheadコマンドを用いよ．\n",
    "\n"
   ]
  },
  {
   "cell_type": "code",
   "execution_count": 74,
   "metadata": {
    "collapsed": false,
    "scrolled": true
   },
   "outputs": [
    {
     "name": "stdout",
     "output_type": "stream",
     "text": [
      "高知県\t江川崎\t41\t2013-08-12\r\n",
      "埼玉県\t熊谷\t40.9\t2007-08-16\r\n",
      "岐阜県\t多治見\t40.9\t2007-08-16\r\n",
      "山形県\t山形\t40.8\t1933-07-25\r\n"
     ]
    }
   ],
   "source": [
    "!head -n 4 ./hightemp.txt"
   ]
  },
  {
   "cell_type": "code",
   "execution_count": 79,
   "metadata": {
    "collapsed": false,
    "scrolled": true
   },
   "outputs": [
    {
     "data": {
      "text/plain": [
       "['高知県\\t江川崎\\t41\\t2013-08-12',\n",
       " '埼玉県\\t熊谷\\t40.9\\t2007-08-16',\n",
       " '岐阜県\\t多治見\\t40.9\\t2007-08-16',\n",
       " '山形県\\t山形\\t40.8\\t1933-07-25',\n",
       " '山梨県\\t甲府\\t40.7\\t2013-08-10',\n",
       " '和歌山県\\tかつらぎ\\t40.6\\t1994-08-08',\n",
       " '静岡県\\t天竜\\t40.6\\t1994-08-04',\n",
       " '山梨県\\t勝沼\\t40.5\\t2013-08-10',\n",
       " '埼玉県\\t越谷\\t40.4\\t2007-08-16',\n",
       " '群馬県\\t館林\\t40.3\\t2007-08-16',\n",
       " '群馬県\\t上里見\\t40.3\\t1998-07-04',\n",
       " '愛知県\\t愛西\\t40.3\\t1994-08-05',\n",
       " '千葉県\\t牛久\\t40.2\\t2004-07-20',\n",
       " '静岡県\\t佐久間\\t40.2\\t2001-07-24',\n",
       " '愛媛県\\t宇和島\\t40.2\\t1927-07-22',\n",
       " '山形県\\t酒田\\t40.1\\t1978-08-03',\n",
       " '岐阜県\\t美濃\\t40\\t2007-08-16',\n",
       " '群馬県\\t前橋\\t40\\t2001-07-24',\n",
       " '千葉県\\t茂原\\t39.9\\t2013-08-11',\n",
       " '埼玉県\\t鳩山\\t39.9\\t1997-07-05',\n",
       " '大阪府\\t豊中\\t39.9\\t1994-08-08',\n",
       " '山梨県\\t大月\\t39.9\\t1990-07-19',\n",
       " '山形県\\t鶴岡\\t39.9\\t1978-08-03',\n",
       " '愛知県\\t名古屋\\t39.9\\t1942-08-02']"
      ]
     },
     "execution_count": 79,
     "metadata": {},
     "output_type": "execute_result"
    }
   ],
   "source": [
    "f = open(\"hightemp.txt\")\n",
    "data = f.read()\n",
    "f.close()\n",
    "d2 = data.splitlines()\n",
    "d2"
   ]
  },
  {
   "cell_type": "code",
   "execution_count": 92,
   "metadata": {
    "collapsed": false
   },
   "outputs": [
    {
     "name": "stdout",
     "output_type": "stream",
     "text": [
      "4\n",
      "高知県\t江川崎\t41\t2013-08-12\n",
      "埼玉県\t熊谷\t40.9\t2007-08-16\n",
      "岐阜県\t多治見\t40.9\t2007-08-16\n",
      "山形県\t山形\t40.8\t1933-07-25\n"
     ]
    }
   ],
   "source": [
    "n = int(input())\n",
    "for i in range(len(d2[0:n])):\n",
    "    print(\"\".join(d2[i]))"
   ]
  },
  {
   "cell_type": "markdown",
   "metadata": {},
   "source": [
    "## 15. 末尾のN行を出力\n",
    "自然数Nをコマンドライン引数などの手段で受け取り，入力のうち末尾のN行だけを表示せよ．確認にはtailコマンドを用いよ．"
   ]
  },
  {
   "cell_type": "code",
   "execution_count": 85,
   "metadata": {
    "collapsed": false
   },
   "outputs": [
    {
     "name": "stdout",
     "output_type": "stream",
     "text": [
      "山梨県\t大月\t39.9\t1990-07-19\r\n",
      "山形県\t鶴岡\t39.9\t1978-08-03\r\n",
      "愛知県\t名古屋\t39.9\t1942-08-02\r\n"
     ]
    }
   ],
   "source": [
    "!tail -n 3 ./hightemp.txt"
   ]
  },
  {
   "cell_type": "code",
   "execution_count": 86,
   "metadata": {
    "collapsed": true
   },
   "outputs": [],
   "source": [
    "f = open(\"hightemp.txt\")\n",
    "data = f.read()\n",
    "f.close()"
   ]
  },
  {
   "cell_type": "code",
   "execution_count": 91,
   "metadata": {
    "collapsed": false
   },
   "outputs": [
    {
     "name": "stdout",
     "output_type": "stream",
     "text": [
      "4\n",
      "大阪府\t豊中\t39.9\t1994-08-08\n",
      "山梨県\t大月\t39.9\t1990-07-19\n",
      "山形県\t鶴岡\t39.9\t1978-08-03\n",
      "愛知県\t名古屋\t39.9\t1942-08-02\n"
     ]
    }
   ],
   "source": [
    "n = int(input())\n",
    "print(\"\\n\".join(d2[-n:]))"
   ]
  },
  {
   "cell_type": "markdown",
   "metadata": {},
   "source": [
    "## 16. ファイルをN分割する\n",
    "自然数Nをコマンドライン引数などの手段で受け取り，入力のファイルを行単位でN分割せよ．同様の処理をsplitコマンドで実現せよ．"
   ]
  },
  {
   "cell_type": "code",
   "execution_count": 96,
   "metadata": {
    "collapsed": true
   },
   "outputs": [],
   "source": [
    "!split -l 8 ./hightemp.txt ./Divide.txt"
   ]
  },
  {
   "cell_type": "code",
   "execution_count": 102,
   "metadata": {
    "collapsed": false
   },
   "outputs": [
    {
     "name": "stdout",
     "output_type": "stream",
     "text": [
      "高知県\t江川崎\t41\t2013-08-12\n",
      "埼玉県\t熊谷\t40.9\t2007-08-16\n",
      "岐阜県\t多治見\t40.9\t2007-08-16\n",
      "山形県\t山形\t40.8\t1933-07-25\n",
      "山梨県\t甲府\t40.7\t2013-08-10\n",
      "和歌山県\tかつらぎ\t40.6\t1994-08-08\n",
      "静岡県\t天竜\t40.6\t1994-08-04\n",
      "山梨県\t勝沼\t40.5\t2013-08-10\n",
      "\n"
     ]
    }
   ],
   "source": [
    "f=open('Divide.txtaa')#aa,ab,acの３分割\n",
    "text = f.read()\n",
    "f.close()\n",
    "print(text)"
   ]
  },
  {
   "cell_type": "code",
   "execution_count": 104,
   "metadata": {
    "collapsed": false
   },
   "outputs": [
    {
     "name": "stdout",
     "output_type": "stream",
     "text": [
      "5\n",
      "1\n",
      "高知県\t江川崎\t41\t2013-08-12\n",
      "埼玉県\t熊谷\t40.9\t2007-08-16\n",
      "岐阜県\t多治見\t40.9\t2007-08-16\n",
      "山形県\t山形\t40.8\t1933-07-25\n",
      "山梨県\t甲府\t40.7\t2013-08-10\n",
      "2\n",
      "和歌山県\tかつらぎ\t40.6\t1994-08-08\n",
      "静岡県\t天竜\t40.6\t1994-08-04\n",
      "山梨県\t勝沼\t40.5\t2013-08-10\n",
      "埼玉県\t越谷\t40.4\t2007-08-16\n",
      "群馬県\t館林\t40.3\t2007-08-16\n",
      "3\n",
      "群馬県\t上里見\t40.3\t1998-07-04\n",
      "愛知県\t愛西\t40.3\t1994-08-05\n",
      "千葉県\t牛久\t40.2\t2004-07-20\n",
      "静岡県\t佐久間\t40.2\t2001-07-24\n",
      "愛媛県\t宇和島\t40.2\t1927-07-22\n",
      "4\n",
      "山形県\t酒田\t40.1\t1978-08-03\n",
      "岐阜県\t美濃\t40\t2007-08-16\n",
      "群馬県\t前橋\t40\t2001-07-24\n",
      "千葉県\t茂原\t39.9\t2013-08-11\n",
      "埼玉県\t鳩山\t39.9\t1997-07-05\n",
      "5\n",
      "大阪府\t豊中\t39.9\t1994-08-08\n",
      "山梨県\t大月\t39.9\t1990-07-19\n",
      "山形県\t鶴岡\t39.9\t1978-08-03\n",
      "愛知県\t名古屋\t39.9\t1942-08-02\n"
     ]
    }
   ],
   "source": [
    "n = int(input())\n",
    "i = 1\n",
    "for j in range(n):\n",
    "    if j == 0:\n",
    "        print(i)\n",
    "        print(\"\\n\".join(d2[0:n]))  \n",
    "    else:\n",
    "        print(i+1)\n",
    "        print(\"\\n\".join(d2[n*i:n*(i+1)]))\n",
    "        i = i+1  "
   ]
  },
  {
   "cell_type": "markdown",
   "metadata": {},
   "source": [
    "## 17. １列目の文字列の異なり\n",
    "1列目の文字列の種類（異なる文字列の集合）を求めよ．確認にはsort, uniqコマンドを用いよ．"
   ]
  },
  {
   "cell_type": "code",
   "execution_count": 235,
   "metadata": {
    "collapsed": false
   },
   "outputs": [
    {
     "name": "stdout",
     "output_type": "stream",
     "text": [
      "千葉県\r\n",
      "埼玉県\r\n",
      "大阪府\r\n",
      "山形県\r\n",
      "山梨県\r\n",
      "岐阜県\r\n",
      "愛媛県\r\n",
      "愛知県\r\n",
      "群馬県\r\n",
      "静岡県\r\n",
      "高知県\r\n",
      "和歌山県\r\n"
     ]
    }
   ],
   "source": [
    "!cut -f1 ./hightemp.txt | sort | uniq"
   ]
  },
  {
   "cell_type": "code",
   "execution_count": 134,
   "metadata": {
    "collapsed": false
   },
   "outputs": [
    {
     "name": "stdout",
     "output_type": "stream",
     "text": [
      "高知県\t江川崎\t41\t2013-08-12\n",
      "埼玉県\t熊谷\t40.9\t2007-08-16\n",
      "岐阜県\t多治見\t40.9\t2007-08-16\n",
      "山形県\t山形\t40.8\t1933-07-25\n",
      "山梨県\t甲府\t40.7\t2013-08-10\n",
      "和歌山県\tかつらぎ\t40.6\t1994-08-08\n",
      "静岡県\t天竜\t40.6\t1994-08-04\n",
      "山梨県\t勝沼\t40.5\t2013-08-10\n",
      "埼玉県\t越谷\t40.4\t2007-08-16\n",
      "群馬県\t館林\t40.3\t2007-08-16\n",
      "群馬県\t上里見\t40.3\t1998-07-04\n",
      "愛知県\t愛西\t40.3\t1994-08-05\n",
      "千葉県\t牛久\t40.2\t2004-07-20\n",
      "静岡県\t佐久間\t40.2\t2001-07-24\n",
      "愛媛県\t宇和島\t40.2\t1927-07-22\n",
      "山形県\t酒田\t40.1\t1978-08-03\n",
      "岐阜県\t美濃\t40\t2007-08-16\n",
      "群馬県\t前橋\t40\t2001-07-24\n",
      "千葉県\t茂原\t39.9\t2013-08-11\n",
      "埼玉県\t鳩山\t39.9\t1997-07-05\n",
      "大阪府\t豊中\t39.9\t1994-08-08\n",
      "山梨県\t大月\t39.9\t1990-07-19\n",
      "山形県\t鶴岡\t39.9\t1978-08-03\n",
      "愛知県\t名古屋\t39.9\t1942-08-02\n",
      "\n"
     ]
    }
   ],
   "source": [
    "f = open(\"hightemp.txt\")\n",
    "data = f.read()\n",
    "f.close()\n",
    "print(data)"
   ]
  },
  {
   "cell_type": "code",
   "execution_count": 135,
   "metadata": {
    "collapsed": false,
    "scrolled": true
   },
   "outputs": [
    {
     "data": {
      "text/plain": [
       "['高知県',\n",
       " '江川崎',\n",
       " '41',\n",
       " '2013-08-12',\n",
       " '埼玉県',\n",
       " '熊谷',\n",
       " '40.9',\n",
       " '2007-08-16',\n",
       " '岐阜県',\n",
       " '多治見',\n",
       " '40.9',\n",
       " '2007-08-16',\n",
       " '山形県',\n",
       " '山形',\n",
       " '40.8',\n",
       " '1933-07-25',\n",
       " '山梨県',\n",
       " '甲府',\n",
       " '40.7',\n",
       " '2013-08-10',\n",
       " '和歌山県',\n",
       " 'かつらぎ',\n",
       " '40.6',\n",
       " '1994-08-08',\n",
       " '静岡県',\n",
       " '天竜',\n",
       " '40.6',\n",
       " '1994-08-04',\n",
       " '山梨県',\n",
       " '勝沼',\n",
       " '40.5',\n",
       " '2013-08-10',\n",
       " '埼玉県',\n",
       " '越谷',\n",
       " '40.4',\n",
       " '2007-08-16',\n",
       " '群馬県',\n",
       " '館林',\n",
       " '40.3',\n",
       " '2007-08-16',\n",
       " '群馬県',\n",
       " '上里見',\n",
       " '40.3',\n",
       " '1998-07-04',\n",
       " '愛知県',\n",
       " '愛西',\n",
       " '40.3',\n",
       " '1994-08-05',\n",
       " '千葉県',\n",
       " '牛久',\n",
       " '40.2',\n",
       " '2004-07-20',\n",
       " '静岡県',\n",
       " '佐久間',\n",
       " '40.2',\n",
       " '2001-07-24',\n",
       " '愛媛県',\n",
       " '宇和島',\n",
       " '40.2',\n",
       " '1927-07-22',\n",
       " '山形県',\n",
       " '酒田',\n",
       " '40.1',\n",
       " '1978-08-03',\n",
       " '岐阜県',\n",
       " '美濃',\n",
       " '40',\n",
       " '2007-08-16',\n",
       " '群馬県',\n",
       " '前橋',\n",
       " '40',\n",
       " '2001-07-24',\n",
       " '千葉県',\n",
       " '茂原',\n",
       " '39.9',\n",
       " '2013-08-11',\n",
       " '埼玉県',\n",
       " '鳩山',\n",
       " '39.9',\n",
       " '1997-07-05',\n",
       " '大阪府',\n",
       " '豊中',\n",
       " '39.9',\n",
       " '1994-08-08',\n",
       " '山梨県',\n",
       " '大月',\n",
       " '39.9',\n",
       " '1990-07-19',\n",
       " '山形県',\n",
       " '鶴岡',\n",
       " '39.9',\n",
       " '1978-08-03',\n",
       " '愛知県',\n",
       " '名古屋',\n",
       " '39.9',\n",
       " '1942-08-02']"
      ]
     },
     "execution_count": 135,
     "metadata": {},
     "output_type": "execute_result"
    }
   ],
   "source": [
    "a = data.split()\n",
    "a"
   ]
  },
  {
   "cell_type": "code",
   "execution_count": 227,
   "metadata": {
    "collapsed": true
   },
   "outputs": [],
   "source": [
    "b = a[:-1:4]"
   ]
  },
  {
   "cell_type": "code",
   "execution_count": 228,
   "metadata": {
    "collapsed": false
   },
   "outputs": [
    {
     "data": {
      "text/plain": [
       "['高知県',\n",
       " '埼玉県',\n",
       " '岐阜県',\n",
       " '山形県',\n",
       " '山梨県',\n",
       " '和歌山県',\n",
       " '静岡県',\n",
       " '山梨県',\n",
       " '埼玉県',\n",
       " '群馬県',\n",
       " '群馬県',\n",
       " '愛知県',\n",
       " '千葉県',\n",
       " '静岡県',\n",
       " '愛媛県',\n",
       " '山形県',\n",
       " '岐阜県',\n",
       " '群馬県',\n",
       " '千葉県',\n",
       " '埼玉県',\n",
       " '大阪府',\n",
       " '山梨県',\n",
       " '山形県',\n",
       " '愛知県']"
      ]
     },
     "execution_count": 228,
     "metadata": {},
     "output_type": "execute_result"
    }
   ],
   "source": [
    "b"
   ]
  },
  {
   "cell_type": "code",
   "execution_count": 229,
   "metadata": {
    "collapsed": false
   },
   "outputs": [
    {
     "data": {
      "text/plain": [
       "{'千葉県',\n",
       " '和歌山県',\n",
       " '埼玉県',\n",
       " '大阪府',\n",
       " '山形県',\n",
       " '山梨県',\n",
       " '岐阜県',\n",
       " '愛媛県',\n",
       " '愛知県',\n",
       " '群馬県',\n",
       " '静岡県',\n",
       " '高知県'}"
      ]
     },
     "execution_count": 229,
     "metadata": {},
     "output_type": "execute_result"
    }
   ],
   "source": [
    "c = set(b) \n",
    "c"
   ]
  },
  {
   "cell_type": "code",
   "execution_count": null,
   "metadata": {
    "collapsed": true
   },
   "outputs": [],
   "source": []
  },
  {
   "cell_type": "markdown",
   "metadata": {},
   "source": [
    "## 18. 各行を3コラム目の数値の降順にソート\n",
    "各行を3コラム目の数値の逆順で整列せよ（注意: 各行の内容は変更せずに並び替えよ）．確認にはsortコマンドを用いよ（この問題はコマンドで実行した時の結果と合わなくてもよい）．"
   ]
  },
  {
   "cell_type": "code",
   "execution_count": 203,
   "metadata": {
    "collapsed": false,
    "scrolled": true
   },
   "outputs": [
    {
     "name": "stdout",
     "output_type": "stream",
     "text": [
      "高知県\t江川崎\t41\t2013-08-12\r\n",
      "岐阜県\t多治見\t40.9\t2007-08-16\r\n",
      "埼玉県\t熊谷\t40.9\t2007-08-16\r\n",
      "山形県\t山形\t40.8\t1933-07-25\r\n",
      "山梨県\t甲府\t40.7\t2013-08-10\r\n",
      "和歌山県\tかつらぎ\t40.6\t1994-08-08\r\n",
      "静岡県\t天竜\t40.6\t1994-08-04\r\n",
      "山梨県\t勝沼\t40.5\t2013-08-10\r\n",
      "埼玉県\t越谷\t40.4\t2007-08-16\r\n",
      "群馬県\t上里見\t40.3\t1998-07-04\r\n",
      "群馬県\t館林\t40.3\t2007-08-16\r\n",
      "愛知県\t愛西\t40.3\t1994-08-05\r\n",
      "静岡県\t佐久間\t40.2\t2001-07-24\r\n",
      "愛媛県\t宇和島\t40.2\t1927-07-22\r\n",
      "千葉県\t牛久\t40.2\t2004-07-20\r\n",
      "山形県\t酒田\t40.1\t1978-08-03\r\n",
      "岐阜県\t美濃\t40\t2007-08-16\r\n",
      "群馬県\t前橋\t40\t2001-07-24\r\n",
      "愛知県\t名古屋\t39.9\t1942-08-02\r\n",
      "千葉県\t茂原\t39.9\t2013-08-11\r\n",
      "埼玉県\t鳩山\t39.9\t1997-07-05\r\n",
      "大阪府\t豊中\t39.9\t1994-08-08\r\n",
      "山梨県\t大月\t39.9\t1990-07-19\r\n",
      "山形県\t鶴岡\t39.9\t1978-08-03\r\n"
     ]
    }
   ],
   "source": [
    "!sort -r -k 3,3 ./hightemp.txt"
   ]
  },
  {
   "cell_type": "code",
   "execution_count": null,
   "metadata": {
    "collapsed": true
   },
   "outputs": [],
   "source": [
    "f = open(\"hightemp.txt\")\n",
    "data = f.read()\n",
    "f.close()\n",
    "print(data)\n",
    "a = data.split()\n",
    "b = [a[i*4:(i+1)*4] for i in range(int(len(a)/4))]"
   ]
  },
  {
   "cell_type": "code",
   "execution_count": 158,
   "metadata": {
    "collapsed": false
   },
   "outputs": [],
   "source": [
    "b = [a[i*4:(i+1)*4] for i in range(int(len(a)/4))]"
   ]
  },
  {
   "cell_type": "code",
   "execution_count": 159,
   "metadata": {
    "collapsed": false,
    "scrolled": true
   },
   "outputs": [
    {
     "name": "stdout",
     "output_type": "stream",
     "text": [
      "[['高知県', '江川崎', '41', '2013-08-12'], ['埼玉県', '熊谷', '40.9', '2007-08-16'], ['岐阜県', '多治見', '40.9', '2007-08-16'], ['山形県', '山形', '40.8', '1933-07-25'], ['山梨県', '甲府', '40.7', '2013-08-10'], ['和歌山県', 'かつらぎ', '40.6', '1994-08-08'], ['静岡県', '天竜', '40.6', '1994-08-04'], ['山梨県', '勝沼', '40.5', '2013-08-10'], ['埼玉県', '越谷', '40.4', '2007-08-16'], ['群馬県', '館林', '40.3', '2007-08-16'], ['群馬県', '上里見', '40.3', '1998-07-04'], ['愛知県', '愛西', '40.3', '1994-08-05'], ['千葉県', '牛久', '40.2', '2004-07-20'], ['静岡県', '佐久間', '40.2', '2001-07-24'], ['愛媛県', '宇和島', '40.2', '1927-07-22'], ['山形県', '酒田', '40.1', '1978-08-03'], ['岐阜県', '美濃', '40', '2007-08-16'], ['群馬県', '前橋', '40', '2001-07-24'], ['千葉県', '茂原', '39.9', '2013-08-11'], ['埼玉県', '鳩山', '39.9', '1997-07-05'], ['大阪府', '豊中', '39.9', '1994-08-08'], ['山梨県', '大月', '39.9', '1990-07-19'], ['山形県', '鶴岡', '39.9', '1978-08-03'], ['愛知県', '名古屋', '39.9', '1942-08-02']]\n"
     ]
    }
   ],
   "source": [
    "print(b)"
   ]
  },
  {
   "cell_type": "code",
   "execution_count": 180,
   "metadata": {
    "collapsed": false
   },
   "outputs": [
    {
     "data": {
      "text/plain": [
       "['千葉県', '牛久', '40.2', '2004-07-20']"
      ]
     },
     "execution_count": 180,
     "metadata": {},
     "output_type": "execute_result"
    }
   ],
   "source": [
    "c = sorted(b)\n",
    "c[0]"
   ]
  },
  {
   "cell_type": "code",
   "execution_count": 202,
   "metadata": {
    "collapsed": false,
    "scrolled": true
   },
   "outputs": [
    {
     "name": "stdout",
     "output_type": "stream",
     "text": [
      "千葉県\t茂原\t39.9\t2013-08-11\n",
      "千葉県\t牛久\t40.2\t2004-07-20\n",
      "和歌山県\tかつらぎ\t40.6\t1994-08-08\n",
      "埼玉県\t鳩山\t39.9\t1997-07-05\n",
      "埼玉県\t越谷\t40.4\t2007-08-16\n",
      "埼玉県\t熊谷\t40.9\t2007-08-16\n",
      "大阪府\t豊中\t39.9\t1994-08-08\n",
      "山形県\t鶴岡\t39.9\t1978-08-03\n",
      "山形県\t酒田\t40.1\t1978-08-03\n",
      "山形県\t山形\t40.8\t1933-07-25\n",
      "山梨県\t大月\t39.9\t1990-07-19\n",
      "山梨県\t勝沼\t40.5\t2013-08-10\n",
      "山梨県\t甲府\t40.7\t2013-08-10\n",
      "岐阜県\t美濃\t40\t2007-08-16\n",
      "岐阜県\t多治見\t40.9\t2007-08-16\n",
      "愛媛県\t宇和島\t40.2\t1927-07-22\n",
      "愛知県\t名古屋\t39.9\t1942-08-02\n",
      "愛知県\t愛西\t40.3\t1994-08-05\n",
      "群馬県\t前橋\t40\t2001-07-24\n",
      "群馬県\t館林\t40.3\t2007-08-16\n",
      "群馬県\t上里見\t40.3\t1998-07-04\n",
      "静岡県\t佐久間\t40.2\t2001-07-24\n",
      "静岡県\t天竜\t40.6\t1994-08-04\n",
      "高知県\t江川崎\t41\t2013-08-12\n"
     ]
    }
   ],
   "source": [
    "c = sorted(b,key=lambda x:(x[0],x[2]))\n",
    "for i in c:\n",
    "    d = '\\t'.join(i)\n",
    "    print(d)"
   ]
  },
  {
   "cell_type": "code",
   "execution_count": 208,
   "metadata": {
    "collapsed": false,
    "scrolled": true
   },
   "outputs": [
    {
     "name": "stdout",
     "output_type": "stream",
     "text": [
      "高知県\t江川崎\t41\t2013-08-12\n",
      "岐阜県\t多治見\t40.9\t2007-08-16\n",
      "埼玉県\t熊谷\t40.9\t2007-08-16\n",
      "山形県\t山形\t40.8\t1933-07-25\n",
      "山梨県\t甲府\t40.7\t2013-08-10\n",
      "静岡県\t天竜\t40.6\t1994-08-04\n",
      "和歌山県\tかつらぎ\t40.6\t1994-08-08\n",
      "山梨県\t勝沼\t40.5\t2013-08-10\n",
      "埼玉県\t越谷\t40.4\t2007-08-16\n",
      "愛知県\t愛西\t40.3\t1994-08-05\n",
      "群馬県\t上里見\t40.3\t1998-07-04\n",
      "群馬県\t館林\t40.3\t2007-08-16\n",
      "愛媛県\t宇和島\t40.2\t1927-07-22\n",
      "静岡県\t佐久間\t40.2\t2001-07-24\n",
      "千葉県\t牛久\t40.2\t2004-07-20\n",
      "山形県\t酒田\t40.1\t1978-08-03\n",
      "群馬県\t前橋\t40\t2001-07-24\n",
      "岐阜県\t美濃\t40\t2007-08-16\n",
      "愛知県\t名古屋\t39.9\t1942-08-02\n",
      "山形県\t鶴岡\t39.9\t1978-08-03\n",
      "山梨県\t大月\t39.9\t1990-07-19\n",
      "大阪府\t豊中\t39.9\t1994-08-08\n",
      "埼玉県\t鳩山\t39.9\t1997-07-05\n",
      "千葉県\t茂原\t39.9\t2013-08-11\n"
     ]
    }
   ],
   "source": [
    "c = reversed(sorted(b,key=lambda x:(x[2])))#strでなければlambda x:(-x[2])で逆順可能\n",
    "for i in c:\n",
    "    d = '\\t'.join(i)\n",
    "    print(d)"
   ]
  },
  {
   "cell_type": "markdown",
   "metadata": {},
   "source": [
    "## 19. 各行の1コラム目の文字列の出現頻度を求め，出現頻度の高い順に並べる\n",
    "各行の1列目の文字列の出現頻度を求め，その高い順に並べて表示せよ．確認にはcut, uniq, sortコマンドを用いよ．\n",
    "\n"
   ]
  },
  {
   "cell_type": "code",
   "execution_count": 226,
   "metadata": {
    "collapsed": false,
    "scrolled": true
   },
   "outputs": [
    {
     "name": "stdout",
     "output_type": "stream",
     "text": [
      "   3 群馬県\r\n",
      "   3 山梨県\r\n",
      "   3 山形県\r\n",
      "   3 埼玉県\r\n",
      "   2 静岡県\r\n",
      "   2 愛知県\r\n",
      "   2 岐阜県\r\n",
      "   2 千葉県\r\n",
      "   1 和歌山県\r\n",
      "   1 高知県\r\n",
      "   1 愛媛県\r\n",
      "   1 大阪府\r\n"
     ]
    }
   ],
   "source": [
    "!cut -f1 ./hightemp.txt | sort | uniq -c | sort -r"
   ]
  },
  {
   "cell_type": "code",
   "execution_count": 245,
   "metadata": {
    "collapsed": false,
    "scrolled": true
   },
   "outputs": [],
   "source": [
    "f = open(\"hightemp.txt\")\n",
    "data = f.read()\n",
    "f.close()\n",
    "a = data.split()\n",
    "b = a[:-1:4]"
   ]
  },
  {
   "cell_type": "code",
   "execution_count": 261,
   "metadata": {
    "collapsed": true
   },
   "outputs": [],
   "source": [
    "def countman(cnt):\n",
    "    from collections import Counter\n",
    "    li=[]\n",
    "    wo=[]\n",
    "    for j in range(len(cnt)):\n",
    "        li.append(cnt[j])\n",
    "    li1 = reversed(sorted(li))\n",
    "    counter = Counter(li1)\n",
    "    \n",
    "    for word, cnt in counter.most_common():\n",
    "        print ('出現数:', cnt,' 頻出単語:',word,)"
   ]
  },
  {
   "cell_type": "code",
   "execution_count": 262,
   "metadata": {
    "collapsed": false
   },
   "outputs": [
    {
     "name": "stdout",
     "output_type": "stream",
     "text": [
      "出現数: 3  頻出単語: 埼玉県\n",
      "出現数: 3  頻出単語: 群馬県\n",
      "出現数: 3  頻出単語: 山形県\n",
      "出現数: 3  頻出単語: 山梨県\n",
      "出現数: 2  頻出単語: 千葉県\n",
      "出現数: 2  頻出単語: 愛知県\n",
      "出現数: 2  頻出単語: 静岡県\n",
      "出現数: 2  頻出単語: 岐阜県\n",
      "出現数: 1  頻出単語: 和歌山県\n",
      "出現数: 1  頻出単語: 愛媛県\n",
      "出現数: 1  頻出単語: 大阪府\n",
      "出現数: 1  頻出単語: 高知県\n"
     ]
    }
   ],
   "source": [
    "countman(b)"
   ]
  },
  {
   "cell_type": "code",
   "execution_count": null,
   "metadata": {
    "collapsed": true
   },
   "outputs": [],
   "source": []
  }
 ],
 "metadata": {
  "kernelspec": {
   "display_name": "Python 3",
   "language": "python",
   "name": "python3"
  },
  "language_info": {
   "codemirror_mode": {
    "name": "ipython",
    "version": 3
   },
   "file_extension": ".py",
   "mimetype": "text/x-python",
   "name": "python",
   "nbconvert_exporter": "python",
   "pygments_lexer": "ipython3",
   "version": "3.4.3"
  }
 },
 "nbformat": 4,
 "nbformat_minor": 0
}
